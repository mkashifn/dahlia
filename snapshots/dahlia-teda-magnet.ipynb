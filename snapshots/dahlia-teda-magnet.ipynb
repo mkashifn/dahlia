{
 "cells": [
  {
   "cell_type": "code",
   "execution_count": 1,
   "metadata": {},
   "outputs": [],
   "source": [
    "# Imports\n",
    "\n",
    "########################################################################\n",
    "# Python Standard Libraries\n",
    "import os\n",
    "\n",
    "########################################################################\n",
    "# Numpy Library\n",
    "import numpy as np # linear algebra\n",
    "\n",
    "########################################################################\n",
    "# Pandas Library\n",
    "import pandas as pd # data processing, CSV file I/O (e.g. pd.read_csv)\n",
    "\n",
    "########################################################################\n",
    "# MATPLOT Library\n",
    "import matplotlib.cm as cm\n",
    "import matplotlib.pyplot as plt\n",
    "import matplotlib.patches as mpatches\n",
    "from matplotlib.ticker import MaxNLocator\n",
    "%matplotlib inline\n",
    "\n",
    "########################################################################\n",
    "# SKLearn Library\n",
    "from sklearn.preprocessing import StandardScaler\n",
    "from sklearn.decomposition import PCA\n",
    "from sklearn.model_selection import train_test_split \n",
    "from sklearn.linear_model import LinearRegression\n",
    "from sklearn import metrics\n",
    "from sklearn.metrics import accuracy_score, precision_recall_curve, classification_report, confusion_matrix, average_precision_score, roc_curve, auc, multilabel_confusion_matrix\n",
    "\n",
    "########################################################################\n",
    "# SCIPY Library\n",
    "from scipy.stats import gaussian_kde\n",
    "import scipy.stats as st"
   ]
  },
  {
   "cell_type": "code",
   "execution_count": 2,
   "metadata": {},
   "outputs": [],
   "source": [
    "def normalize(X, x_min=0, x_max=1):\n",
    "    nom = (X-X.min(axis=0))*(x_max-x_min)\n",
    "    denom = X.max(axis=0) - X.min(axis=0)\n",
    "    denom[denom==0] = 1\n",
    "    return x_min + nom/denom\n",
    "\n",
    "class BilinearMap:\n",
    "    def __init__(self, target_n):\n",
    "        self.target_cols = target_n\n",
    "\n",
    "    def compute_coeff(self, X, y):\n",
    "        try:\n",
    "            #assert False, 'deliberate'\n",
    "            Xt = np.transpose(X)\n",
    "            #print ('X.shape:', X.shape, 'Xt.shape:', Xt.shape)\n",
    "            Xp = np.dot(Xt, X)\n",
    "            #print ('Xp.shape:', Xp.shape)\n",
    "            Xpi = np.linalg.inv(Xp)\n",
    "            #print ('Xpi.shape:', Xpi.shape)\n",
    "            XpiXt = np.dot(Xpi, Xt)\n",
    "            #print ('XpiXt.shape:', XpiXt.shape)\n",
    "            coeff = np.dot(XpiXt, y)\n",
    "            print ('coeff.shape:', coeff.shape)\n",
    "        except Exception as e:\n",
    "            regressor = LinearRegression(fit_intercept=False)\n",
    "            regressor.fit(X, y)\n",
    "            coeff = regressor.coef_\n",
    "            print ('Exception:', e)\n",
    "\n",
    "        #coeff = normalize(coeff)\n",
    "        return coeff\n",
    "\n",
    "    def fit_transform(self, X, y):\n",
    "        target_rows = X.shape[1]\n",
    "        actual_rows = X.shape[0]\n",
    "        required_rows = target_rows * self.target_cols\n",
    "\n",
    "        if actual_rows < required_rows:\n",
    "            assert False, f\"{required_rows} rows are required, {actual_rows} are provided\"\n",
    "\n",
    "        Y = []\n",
    "        for i in range(self.target_cols):\n",
    "            start = i * target_rows\n",
    "            end = start + target_rows\n",
    "            coeff = self.compute_coeff(X[start:end,:], y[start:end])\n",
    "            Y.extend(coeff.tolist())\n",
    "            print(\"coeff.shape:\", coeff.shape, \"Len y:\", len(Y), 'Start:', start, 'End:', end)\n",
    "        Y = np.array(Y)\n",
    "        Y = Y.reshape(target_rows, self.target_cols)\n",
    "        print(\"Y.shape:\", Y.shape)\n",
    "        Z = np.dot(X, Y)\n",
    "        return Z"
   ]
  },
  {
   "cell_type": "code",
   "execution_count": 3,
   "metadata": {
    "_cell_guid": "b1076dfc-b9ad-4769-8c92-a6c4dae69d19",
    "_uuid": "8f2839f25d086af736a60e9eeb907d3b93b6e0e5"
   },
   "outputs": [],
   "source": [
    "# Utility functions\n",
    "\n",
    "########################################################################\n",
    "# Walk through input files\n",
    "def print_input_files():\n",
    "    # Input data files are available in the \"../input/\" directory.\n",
    "    for dirname, _, filenames in os.walk('/kaggle/input'):\n",
    "        for filename in filenames:\n",
    "            print(os.path.join(dirname, filename))\n",
    "\n",
    "########################################################################\n",
    "# Dump text files\n",
    "def dump_text_file(fname):\n",
    "    with open(fname, 'r') as f:\n",
    "        print(f.read())\n",
    "\n",
    "########################################################################\n",
    "# Dump CSV files\n",
    "def dump_csv_file(fname, count=5):\n",
    "    # count: 0 - column names only, -1 - all rows, default = 5 rows max\n",
    "    df = pd.read_csv(fname)\n",
    "    if count < 0:\n",
    "        count = df.shape[0]\n",
    "    return df.head(count)\n",
    "\n",
    "########################################################################\n",
    "# Dataset related functions\n",
    "ds_nbaiot = '/kaggle/input/nbaiot-dataset'\n",
    "dn_nbaiot = ['Danmini_Doorbell', 'Ecobee_Thermostat', 'Ennio_Doorbell', 'Philips_B120N10_Baby_Monitor', 'Provision_PT_737E_Security_Camera', 'Provision_PT_838_Security_Camera', 'Samsung_SNH_1011_N_Webcam', 'SimpleHome_XCS7_1002_WHT_Security_Camera', 'SimpleHome_XCS7_1003_WHT_Security_Camera']\n",
    "\n",
    "def fname(ds, f):\n",
    "    if '.csv' not in f:\n",
    "        f = f'{f}.csv'\n",
    "    return os.path.join(ds, f)\n",
    "\n",
    "def fname_nbaiot(f):\n",
    "    return fname(ds_nbaiot, f)\n",
    "\n",
    "def get_nbaiot_device_files():\n",
    "    nbaiot_all_files = dump_csv_file(fname_nbaiot('data_summary'), -1)\n",
    "    nbaiot_all_files = nbaiot_all_files.iloc[:,0:1].values\n",
    "    device_id = 1\n",
    "    indices = []\n",
    "    for j in range(len(nbaiot_all_files)):\n",
    "        if str(device_id) not in str(nbaiot_all_files[j]):\n",
    "            indices.append(j)\n",
    "            device_id += 1\n",
    "    nbaiot_device_files = np.split(nbaiot_all_files, indices)\n",
    "    return nbaiot_device_files\n",
    "\n",
    "def get_nbaiot_device_data(device_id, count_norm=-1, count_anom=-1):\n",
    "    if device_id < 1 or device_id > 9:\n",
    "        assert False, \"Please provide a valid device ID 1-9, both inclusive\"\n",
    "    if count_anom == -1:\n",
    "        count_anom = count_norm\n",
    "    device_index = device_id -1\n",
    "    device_files = get_nbaiot_device_files()\n",
    "    device_file = device_files[device_index]\n",
    "    df = pd.DataFrame()\n",
    "    y = []\n",
    "    for i in range(len(device_file)):\n",
    "        fname = str(device_file[i][0])\n",
    "        df_c = pd.read_csv(fname_nbaiot(fname))\n",
    "        count = count_anom\n",
    "        if 'benign' in fname:\n",
    "            count = count_norm\n",
    "        rows = count if count >=0 else df_c.shape[0]\n",
    "        print(\"processing\", fname, \"rows =\", rows)\n",
    "        y_np = np.ones(rows) if 'benign' in fname else np.zeros(rows)\n",
    "        y.extend(y_np.tolist())\n",
    "        df = pd.concat([df.iloc[:,:].reset_index(drop=True),\n",
    "                      df_c.iloc[:rows,:].reset_index(drop=True)], axis=0)\n",
    "    X = df.iloc[:,:].values\n",
    "    y = np.array(y)\n",
    "    return (X, y)\n",
    "\n",
    "def get_nbaiot_devices_data():\n",
    "    devices_data = []\n",
    "    for i in range(9):\n",
    "        device_id = i + 1\n",
    "        (X, y) = get_nbaiot_device_data(device_id)\n",
    "        devices_data.append((X, y))\n",
    "    return devices_data\n",
    "#print_input_files()"
   ]
  },
  {
   "cell_type": "code",
   "execution_count": 4,
   "metadata": {},
   "outputs": [],
   "source": [
    "#devices_data = get_nbaiot_devices_data()"
   ]
  },
  {
   "cell_type": "code",
   "execution_count": 5,
   "metadata": {},
   "outputs": [],
   "source": [
    "def gen_teda_obj(observation, k=None, mean=None, var=None, ecc=None):\n",
    "    teda = {}\n",
    "    if not k:\n",
    "        k = 1\n",
    "        mean = observation\n",
    "        var = 0\n",
    "        ecc = 1\n",
    "    else:\n",
    "        if mean is None or var is None or ecc is None:\n",
    "            assert False, 'mean, variance and ecc values are required'\n",
    "\n",
    "    teda['k'] = k\n",
    "    teda['observation'] = observation\n",
    "    teda['mean'] = mean\n",
    "    teda['var'] = var\n",
    "    teda['eccentricity'] = ecc\n",
    "    teda['typicality'] = 1.0 - ecc\n",
    "    teda['norm_eccentricity'] = teda['eccentricity'] / 2.0\n",
    "    teda['norm_typicality'] = teda['typicality'] / (k - 2.0)\n",
    "    teda['outlier'] = 1.0 if teda['norm_eccentricity'] > (1.0 / k) else 0.0\n",
    "    teda['normal'] = 1.0 if teda['outlier'] < 0.5 else 0.0\n",
    "    teda['normal_bool'] = True if teda['normal'] > 0.5 else False\n",
    "    teda['ecc_threshold'] = 1.0 / k\n",
    "\n",
    "    return teda\n",
    "\n",
    "\n",
    "def calc_teda_single(observation, teda = None):\n",
    "    if not teda:\n",
    "        teda = gen_teda_obj(observation)\n",
    "    else:\n",
    "        k = teda['k'] + 1.0\n",
    "        mean = teda['mean']\n",
    "        var = teda['var']\n",
    "\n",
    "        # Calculate the running mean value\n",
    "        mean =  (((k - 1)  / k) * mean) + ((1 / k) * observation)\n",
    "\n",
    "        # Calculate the running mean value\n",
    "        var = (((k - 1) / k) * var) + (1 / (k - 1)) * np.linalg.norm(observation - mean)\n",
    "\n",
    "        # Calculate the running eccentricity value\n",
    "        ecc = (1 / k) +  (np.linalg.norm(mean - observation) / (k * var))\n",
    "\n",
    "        teda = gen_teda_obj(observation, k, mean, var, ecc)\n",
    "\n",
    "    return teda\n",
    "\n",
    "def calc_teda(X):\n",
    "    teda = None\n",
    "    teda_output = []\n",
    "    rows = X.shape[0]\n",
    "    for i in range(rows):\n",
    "        teda = calc_teda_single(X[i,:], teda)\n",
    "        teda_output.append(teda['normal'])\n",
    "\n",
    "    return teda_output\n",
    "\n",
    "def predict(X, X_norm, X_anom):\n",
    "    teda_norm = None\n",
    "    teda_anom = None\n",
    "    y_pred = []\n",
    "    rows = X.shape[0]\n",
    "    rows_norm = X_norm.shape[0]\n",
    "    rows_anom = X_anom.shape[0]\n",
    "    for i in range(rows_norm):\n",
    "        teda_norm = calc_teda_single(X_norm[i,:], teda_norm)\n",
    "\n",
    "    for i in range(rows_anom):\n",
    "        teda_anom = calc_teda_single(X_anom[i,:], teda_anom)\n",
    "\n",
    "    for i in range(rows):\n",
    "        teda_norm_tmp = calc_teda_single(X[i,:], teda_norm)\n",
    "        teda_anom_tmp = calc_teda_single(X[i,:], teda_anom)\n",
    "        \n",
    "        if (teda_norm_tmp['normal_bool'] == True):\n",
    "            y_pred.append(1.0)\n",
    "            teda_norm = teda_norm_tmp\n",
    "        else:\n",
    "            y_pred.append(0.0)\n",
    "            teda_anom = teda_anom_tmp\n",
    "\n",
    "        '''\n",
    "        if (teda_norm_tmp['normal_bool'] == True) and (teda_anom_tmp['normal_bool'] == False):\n",
    "            y_pred.append(1.0)\n",
    "            teda_norm = teda_norm_tmp\n",
    "\n",
    "        elif (teda_norm_tmp['normal_bool'] == False) and (teda_anom_tmp['normal_bool'] == True):\n",
    "            y_pred.append(0.0)\n",
    "            teda_anom = teda_anom_tmp\n",
    "\n",
    "        elif (teda_norm_tmp['normal_bool'] == True) and (teda_anom_tmp['normal_bool'] == True):\n",
    "            y_pred.append(1.0)\n",
    "            teda_norm = teda_norm_tmp\n",
    "\n",
    "        elif (teda_norm_tmp['normal_bool'] == False) and (teda_anom_tmp['normal_bool'] == False):\n",
    "            y_pred.append(0.0)\n",
    "            teda_anom = teda_anom_tmp\n",
    "        '''\n",
    "\n",
    "\n",
    "    return(np.array(y_pred))"
   ]
  },
  {
   "cell_type": "code",
   "execution_count": 6,
   "metadata": {},
   "outputs": [
    {
     "data": {
      "text/plain": [
       "'\\nfor i in range(9):\\n    device_index = i\\n    device_id = device_index + 1\\n    device_name = dn_nbaiot[device_index]\\n    (X, y) = get_nbaiot_device_data(device_id)\\n    X_std = StandardScaler().fit_transform(X)\\n    y_pred = np.array(calc_teda(X_std))\\n    tn, fp, fn, tp = confusion_matrix(y, y_pred, labels=[0,1]).ravel()\\n    acc = accuracy_score(y, y_pred)\\n    print(\"acc,tn,fp,fn,tp\")\\n    print(f\\'{acc:.2f},{tn},{fp},{fn},{tp}\\')\\n    plt.figure(figsize=(20,2))\\n    plt.plot(y_pred, \\'.\\')\\n    plt.title(device_name)\\n    plt.xlabel(\\'instance\\')\\n    plt.ylabel(\\'normal\\')\\n    plt.show()\\n'"
      ]
     },
     "execution_count": 6,
     "metadata": {},
     "output_type": "execute_result"
    }
   ],
   "source": [
    "'''\n",
    "for i in range(9):\n",
    "    device_index = i\n",
    "    device_id = device_index + 1\n",
    "    device_name = dn_nbaiot[device_index]\n",
    "    (X, y) = get_nbaiot_device_data(device_id)\n",
    "    X_std = StandardScaler().fit_transform(X)\n",
    "    y_pred = np.array(calc_teda(X_std))\n",
    "    tn, fp, fn, tp = confusion_matrix(y, y_pred, labels=[0,1]).ravel()\n",
    "    acc = accuracy_score(y, y_pred)\n",
    "    print(\"acc,tn,fp,fn,tp\")\n",
    "    print(f'{acc:.2f},{tn},{fp},{fn},{tp}')\n",
    "    plt.figure(figsize=(20,2))\n",
    "    plt.plot(y_pred, '.')\n",
    "    plt.title(device_name)\n",
    "    plt.xlabel('instance')\n",
    "    plt.ylabel('normal')\n",
    "    plt.show()\n",
    "'''"
   ]
  },
  {
   "cell_type": "code",
   "execution_count": 7,
   "metadata": {},
   "outputs": [
    {
     "name": "stdout",
     "output_type": "stream",
     "text": [
      "processing 1.benign.csv rows = 49548\n",
      "processing 1.gafgyt.combo.csv rows = 59718\n",
      "processing 1.gafgyt.junk.csv rows = 29068\n",
      "processing 1.gafgyt.scan.csv rows = 29849\n",
      "processing 1.gafgyt.tcp.csv rows = 92141\n",
      "processing 1.gafgyt.udp.csv rows = 105874\n",
      "processing 1.mirai.ack.csv rows = 102195\n",
      "processing 1.mirai.scan.csv rows = 107685\n",
      "processing 1.mirai.syn.csv rows = 122573\n",
      "processing 1.mirai.udp.csv rows = 237665\n",
      "processing 1.mirai.udpplain.csv rows = 81982\n"
     ]
    },
    {
     "name": "stderr",
     "output_type": "stream",
     "text": [
      "/opt/conda/lib/python3.6/site-packages/ipykernel_launcher.py:19: RuntimeWarning: invalid value encountered in double_scalars\n"
     ]
    },
    {
     "name": "stdout",
     "output_type": "stream",
     "text": [
      "Danmini_Doorbell\n",
      "acc,tn,fp,fn,tp\n",
      "0.98,968750,0,18432,31116\n"
     ]
    },
    {
     "data": {
      "image/png": "[encoded data removed]",
      "text/plain": [
       "<Figure size 1440x144 with 1 Axes>"
      ]
     },
     "metadata": {
      "needs_background": "light"
     },
     "output_type": "display_data"
    },
    {
     "name": "stdout",
     "output_type": "stream",
     "text": [
      "processing 2.benign.csv rows = 13113\n",
      "processing 2.gafgyt.combo.csv rows = 53012\n",
      "processing 2.gafgyt.junk.csv rows = 30312\n",
      "processing 2.gafgyt.scan.csv rows = 27494\n",
      "processing 2.gafgyt.tcp.csv rows = 95021\n",
      "processing 2.gafgyt.udp.csv rows = 104791\n",
      "processing 2.mirai.ack.csv rows = 113285\n",
      "processing 2.mirai.scan.csv rows = 43192\n",
      "processing 2.mirai.syn.csv rows = 116807\n",
      "processing 2.mirai.udp.csv rows = 151481\n",
      "processing 2.mirai.udpplain.csv rows = 87368\n"
     ]
    },
    {
     "name": "stderr",
     "output_type": "stream",
     "text": [
      "/opt/conda/lib/python3.6/site-packages/ipykernel_launcher.py:19: RuntimeWarning: invalid value encountered in double_scalars\n"
     ]
    },
    {
     "name": "stdout",
     "output_type": "stream",
     "text": [
      "Ecobee_Thermostat\n",
      "acc,tn,fp,fn,tp\n",
      "0.79,653342,169421,4915,8198\n"
     ]
    },
    {
     "data": {
      "image/png": "[encoded data removed]",
      "text/plain": [
       "<Figure size 1440x144 with 1 Axes>"
      ]
     },
     "metadata": {
      "needs_background": "light"
     },
     "output_type": "display_data"
    },
    {
     "name": "stdout",
     "output_type": "stream",
     "text": [
      "processing 3.benign.csv rows = 39100\n",
      "processing 3.gafgyt.combo.csv rows = 53014\n",
      "processing 3.gafgyt.junk.csv rows = 29797\n",
      "processing 3.gafgyt.scan.csv rows = 28120\n",
      "processing 3.gafgyt.tcp.csv rows = 101536\n",
      "processing 3.gafgyt.udp.csv rows = 103933\n"
     ]
    },
    {
     "name": "stderr",
     "output_type": "stream",
     "text": [
      "/opt/conda/lib/python3.6/site-packages/ipykernel_launcher.py:19: RuntimeWarning: invalid value encountered in double_scalars\n"
     ]
    },
    {
     "name": "stdout",
     "output_type": "stream",
     "text": [
      "Ennio_Doorbell\n",
      "acc,tn,fp,fn,tp\n",
      "0.93,299971,16429,10143,28957\n"
     ]
    },
    {
     "data": {
      "image/png": "[encoded data removed]",
      "text/plain": [
       "<Figure size 1440x144 with 1 Axes>"
      ]
     },
     "metadata": {
      "needs_background": "light"
     },
     "output_type": "display_data"
    },
    {
     "name": "stdout",
     "output_type": "stream",
     "text": [
      "processing 4.benign.csv rows = 175240\n",
      "processing 4.gafgyt.combo.csv rows = 58152\n",
      "processing 4.gafgyt.junk.csv rows = 28349\n",
      "processing 4.gafgyt.scan.csv rows = 27859\n",
      "processing 4.gafgyt.tcp.csv rows = 92581\n",
      "processing 4.gafgyt.udp.csv rows = 105782\n",
      "processing 4.mirai.ack.csv rows = 91123\n",
      "processing 4.mirai.scan.csv rows = 103621\n",
      "processing 4.mirai.syn.csv rows = 118128\n",
      "processing 4.mirai.udp.csv rows = 217034\n",
      "processing 4.mirai.udpplain.csv rows = 80808\n"
     ]
    },
    {
     "name": "stderr",
     "output_type": "stream",
     "text": [
      "/opt/conda/lib/python3.6/site-packages/ipykernel_launcher.py:19: RuntimeWarning: invalid value encountered in double_scalars\n"
     ]
    },
    {
     "name": "stdout",
     "output_type": "stream",
     "text": [
      "Philips_B120N10_Baby_Monitor\n",
      "acc,tn,fp,fn,tp\n",
      "0.72,643594,279843,30860,144380\n"
     ]
    },
    {
     "data": {
      "image/png": "[encoded data removed]",
      "text/plain": [
       "<Figure size 1440x144 with 1 Axes>"
      ]
     },
     "metadata": {
      "needs_background": "light"
     },
     "output_type": "display_data"
    },
    {
     "name": "stdout",
     "output_type": "stream",
     "text": [
      "processing 5.benign.csv rows = 62154\n",
      "processing 5.gafgyt.combo.csv rows = 61380\n",
      "processing 5.gafgyt.junk.csv rows = 30898\n",
      "processing 5.gafgyt.scan.csv rows = 29297\n",
      "processing 5.gafgyt.tcp.csv rows = 104510\n",
      "processing 5.gafgyt.udp.csv rows = 104011\n",
      "processing 5.mirai.ack.csv rows = 60554\n",
      "processing 5.mirai.scan.csv rows = 96781\n",
      "processing 5.mirai.syn.csv rows = 65746\n",
      "processing 5.mirai.udp.csv rows = 156248\n",
      "processing 5.mirai.udpplain.csv rows = 56681\n"
     ]
    },
    {
     "name": "stderr",
     "output_type": "stream",
     "text": [
      "/opt/conda/lib/python3.6/site-packages/ipykernel_launcher.py:19: RuntimeWarning: invalid value encountered in double_scalars\n"
     ]
    },
    {
     "name": "stdout",
     "output_type": "stream",
     "text": [
      "Provision_PT_737E_Security_Camera\n",
      "acc,tn,fp,fn,tp\n",
      "0.70,539535,226571,20353,41801\n"
     ]
    },
    {
     "data": {
      "image/png": "[encoded data removed]",
      "text/plain": [
       "<Figure size 1440x144 with 1 Axes>"
      ]
     },
     "metadata": {
      "needs_background": "light"
     },
     "output_type": "display_data"
    },
    {
     "name": "stdout",
     "output_type": "stream",
     "text": [
      "processing 6.benign.csv rows = 98514\n",
      "processing 6.gafgyt.combo.csv rows = 57530\n",
      "processing 6.gafgyt.junk.csv rows = 29068\n",
      "processing 6.gafgyt.scan.csv rows = 28397\n",
      "processing 6.gafgyt.tcp.csv rows = 89387\n",
      "processing 6.gafgyt.udp.csv rows = 104658\n",
      "processing 6.mirai.ack.csv rows = 57997\n",
      "processing 6.mirai.scan.csv rows = 97096\n",
      "processing 6.mirai.syn.csv rows = 61851\n",
      "processing 6.mirai.udp.csv rows = 158608\n",
      "processing 6.mirai.udpplain.csv rows = 53785\n"
     ]
    },
    {
     "name": "stderr",
     "output_type": "stream",
     "text": [
      "/opt/conda/lib/python3.6/site-packages/ipykernel_launcher.py:19: RuntimeWarning: invalid value encountered in double_scalars\n"
     ]
    },
    {
     "name": "stdout",
     "output_type": "stream",
     "text": [
      "Provision_PT_838_Security_Camera\n",
      "acc,tn,fp,fn,tp\n",
      "0.67,502713,235664,39392,59122\n"
     ]
    },
    {
     "data": {
      "image/png": "[encoded data removed]",
      "text/plain": [
       "<Figure size 1440x144 with 1 Axes>"
      ]
     },
     "metadata": {
      "needs_background": "light"
     },
     "output_type": "display_data"
    },
    {
     "name": "stdout",
     "output_type": "stream",
     "text": [
      "processing 7.benign.csv rows = 52150\n",
      "processing 7.gafgyt.combo.csv rows = 58669\n",
      "processing 7.gafgyt.junk.csv rows = 28305\n",
      "processing 7.gafgyt.scan.csv rows = 27698\n",
      "processing 7.gafgyt.tcp.csv rows = 97783\n",
      "processing 7.gafgyt.udp.csv rows = 110617\n"
     ]
    },
    {
     "name": "stderr",
     "output_type": "stream",
     "text": [
      "/opt/conda/lib/python3.6/site-packages/ipykernel_launcher.py:19: RuntimeWarning: invalid value encountered in double_scalars\n"
     ]
    },
    {
     "name": "stdout",
     "output_type": "stream",
     "text": [
      "Samsung_SNH_1011_N_Webcam\n",
      "acc,tn,fp,fn,tp\n",
      "0.93,323072,0,25926,26224\n"
     ]
    },
    {
     "data": {
      "image/png": "[encoded data removed]",
      "text/plain": [
       "<Figure size 1440x144 with 1 Axes>"
      ]
     },
     "metadata": {
      "needs_background": "light"
     },
     "output_type": "display_data"
    },
    {
     "name": "stdout",
     "output_type": "stream",
     "text": [
      "processing 8.benign.csv rows = 46585\n",
      "processing 8.gafgyt.combo.csv rows = 54283\n",
      "processing 8.gafgyt.junk.csv rows = 28579\n",
      "processing 8.gafgyt.scan.csv rows = 27825\n",
      "processing 8.gafgyt.tcp.csv rows = 88816\n",
      "processing 8.gafgyt.udp.csv rows = 103720\n",
      "processing 8.mirai.ack.csv rows = 111480\n",
      "processing 8.mirai.scan.csv rows = 45930\n",
      "processing 8.mirai.syn.csv rows = 125715\n",
      "processing 8.mirai.udp.csv rows = 151879\n",
      "processing 8.mirai.udpplain.csv rows = 78244\n"
     ]
    },
    {
     "name": "stderr",
     "output_type": "stream",
     "text": [
      "/opt/conda/lib/python3.6/site-packages/ipykernel_launcher.py:19: RuntimeWarning: invalid value encountered in double_scalars\n"
     ]
    },
    {
     "name": "stdout",
     "output_type": "stream",
     "text": [
      "SimpleHome_XCS7_1002_WHT_Security_Camera\n",
      "acc,tn,fp,fn,tp\n",
      "0.70,569273,247198,7887,38698\n"
     ]
    },
    {
     "data": {
      "image/png": "[encoded data removed]",
      "text/plain": [
       "<Figure size 1440x144 with 1 Axes>"
      ]
     },
     "metadata": {
      "needs_background": "light"
     },
     "output_type": "display_data"
    },
    {
     "name": "stdout",
     "output_type": "stream",
     "text": [
      "processing 9.benign.csv rows = 19528\n",
      "processing 9.gafgyt.combo.csv rows = 59398\n",
      "processing 9.gafgyt.junk.csv rows = 27413\n",
      "processing 9.gafgyt.scan.csv rows = 28572\n",
      "processing 9.gafgyt.tcp.csv rows = 98075\n",
      "processing 9.gafgyt.udp.csv rows = 102980\n",
      "processing 9.mirai.ack.csv rows = 107187\n",
      "processing 9.mirai.scan.csv rows = 43674\n",
      "processing 9.mirai.syn.csv rows = 122479\n",
      "processing 9.mirai.udp.csv rows = 157084\n",
      "processing 9.mirai.udpplain.csv rows = 84436\n"
     ]
    },
    {
     "name": "stderr",
     "output_type": "stream",
     "text": [
      "/opt/conda/lib/python3.6/site-packages/ipykernel_launcher.py:19: RuntimeWarning: invalid value encountered in double_scalars\n"
     ]
    },
    {
     "name": "stdout",
     "output_type": "stream",
     "text": [
      "SimpleHome_XCS7_1003_WHT_Security_Camera\n",
      "acc,tn,fp,fn,tp\n",
      "0.72,595591,235707,1697,17831\n"
     ]
    },
    {
     "data": {
      "image/png": "[encoded data removed]",
      "text/plain": [
       "<Figure size 1440x144 with 1 Axes>"
      ]
     },
     "metadata": {
      "needs_background": "light"
     },
     "output_type": "display_data"
    }
   ],
   "source": [
    "for i in range(9):\n",
    "    device_index = i\n",
    "    device_id = device_index + 1\n",
    "    device_name = dn_nbaiot[device_index]\n",
    "    (X, y) = get_nbaiot_device_data(device_id)\n",
    "    X_std = StandardScaler().fit_transform(X)\n",
    "    indices_norm = np.where(y >= 0.5)\n",
    "    indices_anom = np.where(y <= 0.5)\n",
    "    X_norm = X_std[indices_norm]\n",
    "    X_anom = X_std[indices_anom]\n",
    "    cout_frac = 0.1\n",
    "    count_norm = int(cout_frac * X_norm.shape[0])\n",
    "    count_anom = int(cout_frac * X_anom.shape[0])\n",
    "    X_norm = X_norm[0:count_norm,:]\n",
    "    X_anom = X_anom[0:count_anom,:]\n",
    "    y_pred = predict(X_std, X_norm, X_anom)\n",
    "    tn, fp, fn, tp = confusion_matrix(y, y_pred, labels=[0,1]).ravel()\n",
    "    acc = accuracy_score(y, y_pred)\n",
    "    print(device_name)\n",
    "    print(\"acc,tn,fp,fn,tp\")\n",
    "    print(f'{acc:.2f},{tn},{fp},{fn},{tp}')\n",
    "    plt.figure(figsize=(20,2))\n",
    "    plt.plot(y_pred, '.')\n",
    "    plt.title(device_name)\n",
    "    plt.xlabel('instance')\n",
    "    plt.ylabel('normal')\n",
    "    plt.show()"
   ]
  }
 ],
 "metadata": {
  "kernelspec": {
   "display_name": "Python 3",
   "language": "python",
   "name": "python3"
  },
  "language_info": {
   "codemirror_mode": {
    "name": "ipython",
    "version": 3
   },
   "file_extension": ".py",
   "mimetype": "text/x-python",
   "name": "python",
   "nbconvert_exporter": "python",
   "pygments_lexer": "ipython3",
   "version": "3.6.6"
  }
 },
 "nbformat": 4,
 "nbformat_minor": 4
}
